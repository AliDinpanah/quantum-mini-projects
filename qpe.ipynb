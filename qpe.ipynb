{
 "cells": [
  {
   "cell_type": "code",
   "execution_count": null,
   "metadata": {},
   "outputs": [],
   "source": [
    "from qiskit import QuantumCircuit, transpile\n",
    "from qiskit_aer import AerSimulator\n",
    "import matplotlib.pyplot as plt\n",
    "import numpy as np\n",
    "\n",
    "\n",
    "\n",
    "num_qubits = 4\n",
    "target_qubit = 1\n",
    "\n",
    "qpe_circuit = QuantumCircuit(num_qubits + target_qubit, num_qubits)\n",
    "qpe_circuit.h(range(num_qubits))\n",
    "qpe_circuit.x(num_qubits)\n",
    "\n",
    "for qubit in range(num_qubits):\n",
    "    exponent = 2 ** qubit\n",
    "    qpe_circuit.cp(2 * np.pi / exponent, qubit, num_qubits)\n",
    "\n",
    "def qft_dagger(circuit, n):\n",
    "    for qubit in range(n // 2):\n",
    "        circuit.swap(qubit, n - qubit - 1)\n",
    "    for j in range(n):\n",
    "        for m in range(j):\n",
    "            circuit.cp(-3.14159 / (2 ** (j - m)), m, j)\n",
    "        circuit.h(j)\n",
    "\n",
    "qft_dagger(qpe_circuit, num_qubits)\n",
    "qpe_circuit.measure(range(num_qubits), range(num_qubits))\n",
    "\n",
    "simulator = AerSimulator(method='statevector')\n",
    "transpiled_circuit = transpile(qpe_circuit, simulator)\n",
    "job = simulator.run(transpiled_circuit, shots=1024)\n",
    "result = job.result()\n",
    "counts = result.get_counts()\n",
    "\n",
    "print(max(counts))\n",
    "\n",
    "plt.bar(counts.keys(), counts.values(), color='blue')\n",
    "plt.title(\"Measurement Histogram\")\n",
    "plt.show()\n",
    "\n",
    "qpe_circuit.draw('mpl')\n"
   ]
  }
 ],
 "metadata": {
  "language_info": {
   "name": "python"
  }
 },
 "nbformat": 4,
 "nbformat_minor": 2
}
