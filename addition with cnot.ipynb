{
 "cells": [
  {
   "cell_type": "code",
   "execution_count": null,
   "metadata": {},
   "outputs": [],
   "source": [
    "from qiskit import QuantumCircuit, transpile\n",
    "from qiskit_aer import AerSimulator\n",
    "\n",
    "\n",
    "qc = QuantumCircuit(8, 3)\n",
    "\n",
    "\n",
    "# A = 11\n",
    "qc.x(0)  \n",
    "qc.x(1)  \n",
    "\n",
    "# B = 10\n",
    "qc.x(3) \n",
    "\n",
    "\n",
    "qc.cx(0, 4)  \n",
    "qc.cx(2, 4)  \n",
    "\n",
    "\n",
    "qc.ccx(0, 2, 6)  \n",
    "\n",
    "\n",
    "qc.cx(1, 5)       \n",
    "qc.cx(3, 5)       \n",
    "qc.cx(6, 5)       \n",
    "\n",
    "\n",
    "qc.ccx(1, 3, 7)   \n",
    "qc.ccx(6, 1, 7)   \n",
    "qc.ccx(6, 3, 7)   \n",
    "\n",
    "\n",
    "qc.measure(4, 0)  \n",
    "qc.measure(5, 1)  \n",
    "qc.measure(7, 2)  \n",
    "\n",
    "\n",
    "simulator = AerSimulator()\n",
    "compiled_circuit = transpile(qc, simulator)\n",
    "job = simulator.run(compiled_circuit)\n",
    "result = job.result()\n",
    "\n",
    "\n",
    "counts = result.get_counts()\n",
    "print(max(counts))\n",
    "print(qc)\n"
   ]
  }
 ],
 "metadata": {
  "language_info": {
   "name": "python"
  }
 },
 "nbformat": 4,
 "nbformat_minor": 2
}
