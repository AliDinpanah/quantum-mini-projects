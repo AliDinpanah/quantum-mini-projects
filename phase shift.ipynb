{
 "cells": [
  {
   "cell_type": "code",
   "execution_count": null,
   "metadata": {},
   "outputs": [],
   "source": [
    "from qiskit import QuantumCircuit, transpile\n",
    "from qiskit.visualization import plot_histogram\n",
    "from qiskit_aer import AerSimulator\n",
    "from math import pi\n",
    "import matplotlib.pyplot as plt\n",
    "\n",
    "\n",
    "qc = QuantumCircuit(4)\n",
    "\n",
    "\n",
    "# qc.x(0)\n",
    "qc.x(1)\n",
    "# qc.x(2)\n",
    "# qc.x(3)\n",
    "\n",
    "\n",
    "phi = pi / 2\n",
    "qc.p(phi, 0)\n",
    "qc.p(phi, 1)\n",
    "qc.p(phi, 2)\n",
    "qc.p(phi, 3)\n",
    "\n",
    "\n",
    "qc.measure_all()\n",
    "\n",
    "\n",
    "simulator = AerSimulator()\n",
    "\n",
    "\n",
    "transpiled_circuit = transpile(qc, simulator)\n",
    "\n",
    "\n",
    "job = simulator.run(transpiled_circuit)\n",
    "result = job.result()\n",
    "\n",
    "\n",
    "counts = result.get_counts()\n",
    "\n",
    "\n",
    "plt.bar(counts.keys(), counts.values(), color='blue')\n",
    "plt.title(\"Measurement Histogram\")\n",
    "plt.show()\n",
    "\n",
    "\n",
    "print(\"\\nOutput Circuit (Transpiled):\")\n",
    "print(transpiled_circuit)\n",
    "\n",
    "\n",
    "print(f\"Global Phase (radians): {transpiled_circuit.global_phase}\")\n",
    "print(f\"Global Phase (degrees): {transpiled_circuit.global_phase * 180 / pi}\")\n"
   ]
  }
 ],
 "metadata": {
  "language_info": {
   "name": "python"
  }
 },
 "nbformat": 4,
 "nbformat_minor": 2
}
